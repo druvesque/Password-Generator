{
 "cells": [
  {
   "cell_type": "code",
   "execution_count": 1,
   "id": "bbd07566-b9da-4b87-94a2-1bd317a52e73",
   "metadata": {},
   "outputs": [
    {
     "name": "stdout",
     "output_type": "stream",
     "text": [
      "Welcome to the PyPassword Generator!\n"
     ]
    },
    {
     "name": "stdin",
     "output_type": "stream",
     "text": [
      "How many letters would you like in your password?:  5\n",
      "How many numbers would you like?:  3\n",
      "How many symbols would you like?:  2\n"
     ]
    },
    {
     "name": "stdout",
     "output_type": "stream",
     "text": [
      "Ej#45(mw4l\n"
     ]
    }
   ],
   "source": [
    "#Password Generator\n",
    "import random\n",
    "letters = ['a', 'b', 'c', 'd', 'e', 'f', 'g', 'h', 'i', 'j', 'k', 'l', 'm', 'n', 'o', 'p', 'q', 'r', 's', 't', 'u', 'v', 'w', 'x', 'y', 'z', 'A', 'B', 'C', 'D', 'E', 'F', 'G', 'H', 'I', 'J', 'K', 'L', 'M', 'N', 'O', 'P', 'Q', 'R', 'S', 'T', 'U', 'V', 'W', 'X', 'Y', 'Z']\n",
    "numbers = ['0', '1', '2', '3', '4', '5', '6', '7', '8', '9']\n",
    "symbols = ['!', '#', '$', '%', '&', '(', ')', '*', '+']\n",
    "print(\"Welcome to the PyPassword Generator!\")\n",
    "alpha = int(input(\"How many letters would you like in your password?: \"))\n",
    "num = int(input(\"How many numbers would you like?: \"))\n",
    "sym = int(input(\"How many symbols would you like?: \"))\n",
    "password_comp = []\n",
    "for i in range(alpha):\n",
    "    password_comp.append(random.choice(letters))\n",
    "for j in range(num):\n",
    "    password_comp.append(random.choice(numbers))\n",
    "for k in range(sym):\n",
    "    password_comp.append(random.choice(symbols))\n",
    "\n",
    "password = \"\"\n",
    "while len(password_comp) > 0:\n",
    "    n = random.choice(password_comp)\n",
    "    password += n\n",
    "    password_comp.remove(n)\n",
    "\n",
    "print(password)\n",
    "#We can also use random.shuffle to scramble to randomize the order of elements in password_comp and then add it's elements to create the password"
   ]
  }
 ],
 "metadata": {
  "kernelspec": {
   "display_name": "Python 3 (ipykernel)",
   "language": "python",
   "name": "python3"
  },
  "language_info": {
   "codemirror_mode": {
    "name": "ipython",
    "version": 3
   },
   "file_extension": ".py",
   "mimetype": "text/x-python",
   "name": "python",
   "nbconvert_exporter": "python",
   "pygments_lexer": "ipython3",
   "version": "3.11.7"
  }
 },
 "nbformat": 4,
 "nbformat_minor": 5
}
